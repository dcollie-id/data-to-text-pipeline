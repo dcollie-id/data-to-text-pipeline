{
 "cells": [
  {
   "cell_type": "markdown",
   "metadata": {},
   "source": [
    "# Data to Text Pipeline using SimpleNLG\n",
    "\n",
    "\n",
    "Data to text conversion is always interesting. This small script contains some of key ideas to use simpleNLg to generate synactic correct sentences using simpleNLG."
   ]
  },
  {
   "cell_type": "code",
   "execution_count": 10,
   "metadata": {
    "tags": []
   },
   "outputs": [
    {
     "name": "stdout",
     "output_type": "stream",
     "text": [
      "Defaulting to user installation because normal site-packages is not writeable\n",
      "Requirement already satisfied: simplenlg in /Users/dave-interrodata/Library/Python/3.9/lib/python/site-packages (0.2.0)\n",
      "Defaulting to user installation because normal site-packages is not writeable\n",
      "Collecting pandas\n",
      "  Downloading pandas-2.0.0-cp39-cp39-macosx_11_0_arm64.whl (10.8 MB)\n",
      "\u001b[2K     \u001b[38;2;114;156;31m━━━━━━━━━━━━━━━━━━━━━━━━━━━━━━━━━━━━━━━━\u001b[0m \u001b[32m10.8/10.8 MB\u001b[0m \u001b[31m1.7 MB/s\u001b[0m eta \u001b[36m0:00:00\u001b[0mm eta \u001b[36m0:00:01\u001b[0m\u001b[36m0:00:01\u001b[0m\n",
      "\u001b[?25hRequirement already satisfied: python-dateutil>=2.8.2 in /Users/dave-interrodata/Library/Python/3.9/lib/python/site-packages (from pandas) (2.8.2)\n",
      "Collecting tzdata>=2022.1\n",
      "  Downloading tzdata-2023.3-py2.py3-none-any.whl (341 kB)\n",
      "\u001b[2K     \u001b[38;2;114;156;31m━━━━━━━━━━━━━━━━━━━━━━━━━━━━━━━━━━━━━━\u001b[0m \u001b[32m341.8/341.8 kB\u001b[0m \u001b[31m77.2 kB/s\u001b[0m eta \u001b[36m0:00:00\u001b[0m kB/s\u001b[0m eta \u001b[36m0:00:01\u001b[0m:03\u001b[0m\n",
      "\u001b[?25hCollecting pytz>=2020.1\n",
      "  Downloading pytz-2023.3-py2.py3-none-any.whl (502 kB)\n",
      "\u001b[2K     \u001b[38;2;114;156;31m━━━━━━━━━━━━━━━━━━━━━━━━━━━━━━━━━━━━━━━\u001b[0m \u001b[32m502.3/502.3 kB\u001b[0m \u001b[31m1.7 MB/s\u001b[0m eta \u001b[36m0:00:00\u001b[0mm eta \u001b[36m0:00:01\u001b[0m0:01\u001b[0m:01\u001b[0m\n",
      "\u001b[?25hCollecting numpy>=1.20.3\n",
      "  Downloading numpy-1.24.2-cp39-cp39-macosx_11_0_arm64.whl (13.9 MB)\n",
      "\u001b[2K     \u001b[38;2;114;156;31m━━━━━━━━━━━━━━━━━━━━━━━━━━━━━━━━━━━━━━━\u001b[0m \u001b[32m13.9/13.9 MB\u001b[0m \u001b[31m311.7 kB/s\u001b[0m eta \u001b[36m0:00:00\u001b[0mm eta \u001b[36m0:00:01\u001b[0m[36m0:00:02\u001b[0m\n",
      "\u001b[?25hRequirement already satisfied: six>=1.5 in /Users/dave-interrodata/Library/Python/3.9/lib/python/site-packages (from python-dateutil>=2.8.2->pandas) (1.16.0)\n",
      "Installing collected packages: pytz, tzdata, numpy, pandas\n",
      "Successfully installed numpy-1.24.2 pandas-2.0.0 pytz-2023.3 tzdata-2023.3\n"
     ]
    }
   ],
   "source": [
    "!pip3 install simplenlg\n",
    "!pip3 install pandas"
   ]
  },
  {
   "cell_type": "code",
   "execution_count": 11,
   "metadata": {
    "tags": []
   },
   "outputs": [],
   "source": [
    "import simplenlg"
   ]
  },
  {
   "cell_type": "code",
   "execution_count": 12,
   "metadata": {
    "tags": []
   },
   "outputs": [],
   "source": [
    "from simplenlg.framework import *\n",
    "from simplenlg.lexicon import *\n",
    "from simplenlg.realiser.english import *\n",
    "from simplenlg.phrasespec import *\n",
    "from simplenlg.features import *"
   ]
  },
  {
   "cell_type": "markdown",
   "metadata": {},
   "source": [
    "SimpleNLG handles the following:\n",
    "\n",
    "Lexicon/morphology system: The default lexicon which computes morphological realisation.\n",
    "\n",
    "Realiser: Generates texts from a syntactic form."
   ]
  },
  {
   "cell_type": "code",
   "execution_count": 13,
   "metadata": {
    "tags": []
   },
   "outputs": [],
   "source": [
    "lexicon = Lexicon.getDefaultLexicon()\n",
    "nlgFactory = NLGFactory(lexicon)\n",
    "realiser = Realiser(lexicon)"
   ]
  },
  {
   "cell_type": "code",
   "execution_count": 14,
   "metadata": {
    "tags": []
   },
   "outputs": [],
   "source": [
    "# Sample Example for creating a sentence\n",
    "\n",
    "s1 = nlgFactory.createSentence(\"my dog is happy\")"
   ]
  },
  {
   "cell_type": "code",
   "execution_count": 15,
   "metadata": {
    "tags": []
   },
   "outputs": [],
   "source": [
    "# Once you created the sentence, inorder to get the text we need to realise the sentence generated\n",
    "output = realiser.realiseSentence(s1)"
   ]
  },
  {
   "cell_type": "code",
   "execution_count": 16,
   "metadata": {
    "tags": []
   },
   "outputs": [
    {
     "name": "stdout",
     "output_type": "stream",
     "text": [
      "My dog is happy.\n"
     ]
    }
   ],
   "source": [
    "print(output)"
   ]
  },
  {
   "cell_type": "code",
   "execution_count": 17,
   "metadata": {
    "tags": []
   },
   "outputs": [],
   "source": [
    "# We have taken a mental illness dataset to generate few sentences using multiple column values."
   ]
  },
  {
   "cell_type": "code",
   "execution_count": 18,
   "metadata": {
    "tags": []
   },
   "outputs": [],
   "source": [
    "import pandas as pd\n",
    "\n",
    "survey = pd.read_csv(\"survey.csv\")"
   ]
  },
  {
   "cell_type": "code",
   "execution_count": 19,
   "metadata": {
    "tags": []
   },
   "outputs": [
    {
     "data": {
      "text/plain": [
       "'\\n1. Age: Age of the submitter.\\n2. Gender: Gender of the submitter.\\n3. Country: Country of the submitter.\\n4. Family_history: Do you have a family history of mental illness?\\n5. treatment: Have you sought treatment for a mental health condition?\\n6. Work_interfere: If you have a mental health condition, do you feel that it interferes with your work?\\n7. no_employees: How many employees does your company or organization have?\\n8. Remote_work: Do you work remotely (outside of an office) at least 50% of the time?\\n9. Tech Company: Is your employer primarily a tech company/organization?\\n10. benefits: Does your employer provide mental health benefits?\\n11. care_options: Do you know the options for mental health care your employer provides?\\n12. wellness_program: Has your employer ever discussed mental health as part of an employee wellness program?\\n13. seek_help: Does your employer provide resources to learn more about mental health issues and how to seek help?\\n14. Anonymity: Is your anonymity protected if you choose to take advantage of mental health or substance abuse treatment\\n15. Leave: How easy is it for you to take medical leave for a mental health condition?\\n16. mental_health_consequence: Do you think that discussing a mental health issue with your employer would have negative consequences?\\n17. phys_health_consequence: Do you think that discussing a physical health issue with your employer would have negative consequences?\\n18. coworkers: Would you be willing to discuss a mental health issue with your coworkers?\\n19. supervisor: Would you be willing to discuss a mental health issue with your direct supervisor(s)?\\n20. mental_health_interview: Would you bring up a mental health issue with a potential employer in an interview?\\n21. phys_health_interview: Would you bring up a physical health issue with a potential employer in an interview?\\n22. mental_vs_physical: Do you feel that your employer takes mental health as seriously as physical health?\\n23. obs_consequence: Have you heard of or observed negative consequences for coworkers with mental health conditions in your workplace?\\n'"
      ]
     },
     "execution_count": 19,
     "metadata": {},
     "output_type": "execute_result"
    }
   ],
   "source": [
    "# Understand the meaning of these columns\n",
    "\n",
    "\n",
    "\"\"\"\n",
    "1. Age: Age of the submitter.\n",
    "2. Gender: Gender of the submitter.\n",
    "3. Country: Country of the submitter.\n",
    "4. Family_history: Do you have a family history of mental illness?\n",
    "5. treatment: Have you sought treatment for a mental health condition?\n",
    "6. Work_interfere: If you have a mental health condition, do you feel that it interferes with your work?\n",
    "7. no_employees: How many employees does your company or organization have?\n",
    "8. Remote_work: Do you work remotely (outside of an office) at least 50% of the time?\n",
    "9. Tech Company: Is your employer primarily a tech company/organization?\n",
    "10. benefits: Does your employer provide mental health benefits?\n",
    "11. care_options: Do you know the options for mental health care your employer provides?\n",
    "12. wellness_program: Has your employer ever discussed mental health as part of an employee wellness program?\n",
    "13. seek_help: Does your employer provide resources to learn more about mental health issues and how to seek help?\n",
    "14. Anonymity: Is your anonymity protected if you choose to take advantage of mental health or substance abuse treatment\n",
    "15. Leave: How easy is it for you to take medical leave for a mental health condition?\n",
    "16. mental_health_consequence: Do you think that discussing a mental health issue with your employer would have negative consequences?\n",
    "17. phys_health_consequence: Do you think that discussing a physical health issue with your employer would have negative consequences?\n",
    "18. coworkers: Would you be willing to discuss a mental health issue with your coworkers?\n",
    "19. supervisor: Would you be willing to discuss a mental health issue with your direct supervisor(s)?\n",
    "20. mental_health_interview: Would you bring up a mental health issue with a potential employer in an interview?\n",
    "21. phys_health_interview: Would you bring up a physical health issue with a potential employer in an interview?\n",
    "22. mental_vs_physical: Do you feel that your employer takes mental health as seriously as physical health?\n",
    "23. obs_consequence: Have you heard of or observed negative consequences for coworkers with mental health conditions in your workplace?\n",
    "\"\"\""
   ]
  },
  {
   "cell_type": "markdown",
   "metadata": {},
   "source": [
    "Now we have some understanding of the data. Now I am interested in seeing how age is varying with people reporting about mental health and seeking help, vs people who don't.\n",
    "\n"
   ]
  },
  {
   "cell_type": "code",
   "execution_count": 20,
   "metadata": {
    "tags": []
   },
   "outputs": [],
   "source": [
    "# Building a feature using treatment and age column\n",
    "survey_age = survey[['treatment', 'Age']]"
   ]
  },
  {
   "cell_type": "markdown",
   "metadata": {},
   "source": [
    "## Distribution of age of people who seek help for mental health\n",
    "\n",
    "* Category 1: People in early 20s [18 - 24]\n",
    "* Category 2: People in their late 20s [25-29]\n",
    "* Category 3: People in their early 30s [30-34]\n",
    "* Category 4: People in their late 30s [35-39]\n",
    "* Category 5: People in early 40s [40-45]\n",
    "* Category 6: People in their late 40s [46-49]\n",
    "* category 7: People with 50 and above [50 - ]\n",
    "\n",
    "\n"
   ]
  },
  {
   "cell_type": "code",
   "execution_count": 21,
   "metadata": {
    "tags": []
   },
   "outputs": [
    {
     "name": "stderr",
     "output_type": "stream",
     "text": [
      "/var/folders/7h/m__5djtd3cq2pnk_htkym6d80000gq/T/ipykernel_8910/2807084165.py:34: SettingWithCopyWarning: \n",
      "A value is trying to be set on a copy of a slice from a DataFrame.\n",
      "Try using .loc[row_indexer,col_indexer] = value instead\n",
      "\n",
      "See the caveats in the documentation: https://pandas.pydata.org/pandas-docs/stable/user_guide/indexing.html#returning-a-view-versus-a-copy\n",
      "  survey_age['age_group'] = survey['Age'].apply(create_age_group)\n"
     ]
    }
   ],
   "source": [
    "def create_age_group(age):\n",
    "    \n",
    "    if age >= 18 and age < 25:\n",
    "        \n",
    "        return \"Early 20s\"\n",
    "    \n",
    "    if age >= 25 and age < 30:\n",
    "        \n",
    "        return \"Late 20s\"\n",
    "    \n",
    "    if age >= 30 and age < 35:\n",
    "        \n",
    "        return \"Early 30s\"\n",
    "    \n",
    "    if age >= 35 and age < 40:\n",
    "        \n",
    "        return \"Late 30s\"\n",
    "    \n",
    "    if age >= 40 and age < 45:\n",
    "        \n",
    "        return \"Early 40s\"\n",
    "    \n",
    "    if age >= 45 and age < 50:\n",
    "        \n",
    "        return \"Late 40s\"\n",
    "    \n",
    "    if age >= 50 and age < 70:\n",
    "        \n",
    "        return \"50s\"\n",
    "    \n",
    "\n",
    "\n",
    "    \n",
    "survey_age['age_group'] = survey['Age'].apply(create_age_group)"
   ]
  },
  {
   "cell_type": "code",
   "execution_count": 22,
   "metadata": {
    "tags": []
   },
   "outputs": [],
   "source": [
    "final_df = survey_age.groupby(['age_group', 'treatment']).size().reset_index()\n",
    "final_df = final_df.rename(columns={0: \"count\"})"
   ]
  },
  {
   "cell_type": "code",
   "execution_count": 23,
   "metadata": {
    "tags": []
   },
   "outputs": [
    {
     "data": {
      "text/plain": [
       "Index(['age_group', 'treatment', 'count'], dtype='object')"
      ]
     },
     "execution_count": 23,
     "metadata": {},
     "output_type": "execute_result"
    }
   ],
   "source": [
    "final_df.columns"
   ]
  },
  {
   "cell_type": "code",
   "execution_count": 24,
   "metadata": {
    "tags": []
   },
   "outputs": [
    {
     "data": {
      "text/html": [
       "<div>\n",
       "<style scoped>\n",
       "    .dataframe tbody tr th:only-of-type {\n",
       "        vertical-align: middle;\n",
       "    }\n",
       "\n",
       "    .dataframe tbody tr th {\n",
       "        vertical-align: top;\n",
       "    }\n",
       "\n",
       "    .dataframe thead th {\n",
       "        text-align: right;\n",
       "    }\n",
       "</style>\n",
       "<table border=\"1\" class=\"dataframe\">\n",
       "  <thead>\n",
       "    <tr style=\"text-align: right;\">\n",
       "      <th></th>\n",
       "      <th>age_group</th>\n",
       "      <th>treatment</th>\n",
       "      <th>count</th>\n",
       "    </tr>\n",
       "  </thead>\n",
       "  <tbody>\n",
       "    <tr>\n",
       "      <th>0</th>\n",
       "      <td>50s</td>\n",
       "      <td>No</td>\n",
       "      <td>14</td>\n",
       "    </tr>\n",
       "    <tr>\n",
       "      <th>1</th>\n",
       "      <td>50s</td>\n",
       "      <td>Yes</td>\n",
       "      <td>17</td>\n",
       "    </tr>\n",
       "    <tr>\n",
       "      <th>2</th>\n",
       "      <td>Early 20s</td>\n",
       "      <td>No</td>\n",
       "      <td>86</td>\n",
       "    </tr>\n",
       "    <tr>\n",
       "      <th>3</th>\n",
       "      <td>Early 20s</td>\n",
       "      <td>Yes</td>\n",
       "      <td>70</td>\n",
       "    </tr>\n",
       "    <tr>\n",
       "      <th>4</th>\n",
       "      <td>Early 30s</td>\n",
       "      <td>No</td>\n",
       "      <td>173</td>\n",
       "    </tr>\n",
       "    <tr>\n",
       "      <th>5</th>\n",
       "      <td>Early 30s</td>\n",
       "      <td>Yes</td>\n",
       "      <td>174</td>\n",
       "    </tr>\n",
       "    <tr>\n",
       "      <th>6</th>\n",
       "      <td>Early 40s</td>\n",
       "      <td>No</td>\n",
       "      <td>49</td>\n",
       "    </tr>\n",
       "    <tr>\n",
       "      <th>7</th>\n",
       "      <td>Early 40s</td>\n",
       "      <td>Yes</td>\n",
       "      <td>64</td>\n",
       "    </tr>\n",
       "    <tr>\n",
       "      <th>8</th>\n",
       "      <td>Late 20s</td>\n",
       "      <td>No</td>\n",
       "      <td>188</td>\n",
       "    </tr>\n",
       "    <tr>\n",
       "      <th>9</th>\n",
       "      <td>Late 20s</td>\n",
       "      <td>Yes</td>\n",
       "      <td>172</td>\n",
       "    </tr>\n",
       "    <tr>\n",
       "      <th>10</th>\n",
       "      <td>Late 30s</td>\n",
       "      <td>No</td>\n",
       "      <td>96</td>\n",
       "    </tr>\n",
       "    <tr>\n",
       "      <th>11</th>\n",
       "      <td>Late 30s</td>\n",
       "      <td>Yes</td>\n",
       "      <td>111</td>\n",
       "    </tr>\n",
       "    <tr>\n",
       "      <th>12</th>\n",
       "      <td>Late 40s</td>\n",
       "      <td>No</td>\n",
       "      <td>13</td>\n",
       "    </tr>\n",
       "    <tr>\n",
       "      <th>13</th>\n",
       "      <td>Late 40s</td>\n",
       "      <td>Yes</td>\n",
       "      <td>23</td>\n",
       "    </tr>\n",
       "  </tbody>\n",
       "</table>\n",
       "</div>"
      ],
      "text/plain": [
       "    age_group treatment  count\n",
       "0         50s        No     14\n",
       "1         50s       Yes     17\n",
       "2   Early 20s        No     86\n",
       "3   Early 20s       Yes     70\n",
       "4   Early 30s        No    173\n",
       "5   Early 30s       Yes    174\n",
       "6   Early 40s        No     49\n",
       "7   Early 40s       Yes     64\n",
       "8    Late 20s        No    188\n",
       "9    Late 20s       Yes    172\n",
       "10   Late 30s        No     96\n",
       "11   Late 30s       Yes    111\n",
       "12   Late 40s        No     13\n",
       "13   Late 40s       Yes     23"
      ]
     },
     "execution_count": 24,
     "metadata": {},
     "output_type": "execute_result"
    }
   ],
   "source": [
    "final_df"
   ]
  },
  {
   "cell_type": "markdown",
   "metadata": {},
   "source": [
    "So we have a dataframe which contains information about people with age group and seeking help.\n",
    "Let's convert this information into text.\n"
   ]
  },
  {
   "cell_type": "raw",
   "metadata": {},
   "source": [
    "https://www.link.cs.cmu.edu/cgi-bin/link/construct-page-4.cgi#submit"
   ]
  },
  {
   "cell_type": "code",
   "execution_count": 25,
   "metadata": {
    "tags": []
   },
   "outputs": [],
   "source": [
    "\"\"\"\n",
    "Required text: 1. [20] people in Age group ---- seeks help for mental illness.\n",
    "               2. [30] people in Age group ---- does not seek help for mental illness.\n",
    "               \n",
    "               Inorder to create these sentences let's create a small rule:\n",
    "               \n",
    "               Noun phrase: people\n",
    "               Premodifier: []\n",
    "               PostModifier: in Age Group + []\n",
    "               \n",
    "               Subject: Noun Phrase\n",
    "               Verb: Seek\n",
    "               Complement: help for mental illness\n",
    "               \n",
    "\"\"\"\n",
    "\n",
    "def create_descriptions(row):\n",
    "    noun_phrase = nlgFactory.createNounPhrase(\"People\")\n",
    "    noun_phrase.addPreModifier(str(row['count']))\n",
    "    post_modifier = \"in Age Group \" + row['age_group']\n",
    "    noun_phrase.addPostModifier(post_modifier)\n",
    "    \n",
    "    sentence = nlgFactory.createClause()\n",
    "    sentence.setSubject(noun_phrase)\n",
    "    sentence.setVerb(\"seek\")\n",
    "    \n",
    "    if row['treatment'] == 'No':\n",
    "        \n",
    "        # This will negate the sentence\n",
    "        sentence.setFeature(Feature.NEGATED, True)\n",
    "    \n",
    "    sentence.addComplement(\"help for mental illness\")\n",
    "\n",
    "    return realiser.realiseSentence(sentence)\n",
    "\n"
   ]
  },
  {
   "cell_type": "code",
   "execution_count": 26,
   "metadata": {
    "tags": []
   },
   "outputs": [],
   "source": [
    "final_df['text'] = final_df.apply(lambda r: create_descriptions(r), axis=1)"
   ]
  },
  {
   "cell_type": "code",
   "execution_count": 27,
   "metadata": {
    "tags": []
   },
   "outputs": [
    {
     "data": {
      "text/html": [
       "<div>\n",
       "<style scoped>\n",
       "    .dataframe tbody tr th:only-of-type {\n",
       "        vertical-align: middle;\n",
       "    }\n",
       "\n",
       "    .dataframe tbody tr th {\n",
       "        vertical-align: top;\n",
       "    }\n",
       "\n",
       "    .dataframe thead th {\n",
       "        text-align: right;\n",
       "    }\n",
       "</style>\n",
       "<table border=\"1\" class=\"dataframe\">\n",
       "  <thead>\n",
       "    <tr style=\"text-align: right;\">\n",
       "      <th></th>\n",
       "      <th>age_group</th>\n",
       "      <th>treatment</th>\n",
       "      <th>count</th>\n",
       "      <th>text</th>\n",
       "    </tr>\n",
       "  </thead>\n",
       "  <tbody>\n",
       "    <tr>\n",
       "      <th>0</th>\n",
       "      <td>50s</td>\n",
       "      <td>No</td>\n",
       "      <td>14</td>\n",
       "      <td>14 People in Age Group 50s does not seek help ...</td>\n",
       "    </tr>\n",
       "    <tr>\n",
       "      <th>1</th>\n",
       "      <td>50s</td>\n",
       "      <td>Yes</td>\n",
       "      <td>17</td>\n",
       "      <td>17 People in Age Group 50s seeks help for ment...</td>\n",
       "    </tr>\n",
       "    <tr>\n",
       "      <th>2</th>\n",
       "      <td>Early 20s</td>\n",
       "      <td>No</td>\n",
       "      <td>86</td>\n",
       "      <td>86 People in Age Group Early 20s does not seek...</td>\n",
       "    </tr>\n",
       "    <tr>\n",
       "      <th>3</th>\n",
       "      <td>Early 20s</td>\n",
       "      <td>Yes</td>\n",
       "      <td>70</td>\n",
       "      <td>70 People in Age Group Early 20s seeks help fo...</td>\n",
       "    </tr>\n",
       "    <tr>\n",
       "      <th>4</th>\n",
       "      <td>Early 30s</td>\n",
       "      <td>No</td>\n",
       "      <td>173</td>\n",
       "      <td>173 People in Age Group Early 30s does not see...</td>\n",
       "    </tr>\n",
       "    <tr>\n",
       "      <th>5</th>\n",
       "      <td>Early 30s</td>\n",
       "      <td>Yes</td>\n",
       "      <td>174</td>\n",
       "      <td>174 People in Age Group Early 30s seeks help f...</td>\n",
       "    </tr>\n",
       "    <tr>\n",
       "      <th>6</th>\n",
       "      <td>Early 40s</td>\n",
       "      <td>No</td>\n",
       "      <td>49</td>\n",
       "      <td>49 People in Age Group Early 40s does not seek...</td>\n",
       "    </tr>\n",
       "    <tr>\n",
       "      <th>7</th>\n",
       "      <td>Early 40s</td>\n",
       "      <td>Yes</td>\n",
       "      <td>64</td>\n",
       "      <td>64 People in Age Group Early 40s seeks help fo...</td>\n",
       "    </tr>\n",
       "    <tr>\n",
       "      <th>8</th>\n",
       "      <td>Late 20s</td>\n",
       "      <td>No</td>\n",
       "      <td>188</td>\n",
       "      <td>188 People in Age Group Late 20s does not seek...</td>\n",
       "    </tr>\n",
       "    <tr>\n",
       "      <th>9</th>\n",
       "      <td>Late 20s</td>\n",
       "      <td>Yes</td>\n",
       "      <td>172</td>\n",
       "      <td>172 People in Age Group Late 20s seeks help fo...</td>\n",
       "    </tr>\n",
       "    <tr>\n",
       "      <th>10</th>\n",
       "      <td>Late 30s</td>\n",
       "      <td>No</td>\n",
       "      <td>96</td>\n",
       "      <td>96 People in Age Group Late 30s does not seek ...</td>\n",
       "    </tr>\n",
       "    <tr>\n",
       "      <th>11</th>\n",
       "      <td>Late 30s</td>\n",
       "      <td>Yes</td>\n",
       "      <td>111</td>\n",
       "      <td>111 People in Age Group Late 30s seeks help fo...</td>\n",
       "    </tr>\n",
       "    <tr>\n",
       "      <th>12</th>\n",
       "      <td>Late 40s</td>\n",
       "      <td>No</td>\n",
       "      <td>13</td>\n",
       "      <td>13 People in Age Group Late 40s does not seek ...</td>\n",
       "    </tr>\n",
       "    <tr>\n",
       "      <th>13</th>\n",
       "      <td>Late 40s</td>\n",
       "      <td>Yes</td>\n",
       "      <td>23</td>\n",
       "      <td>23 People in Age Group Late 40s seeks help for...</td>\n",
       "    </tr>\n",
       "  </tbody>\n",
       "</table>\n",
       "</div>"
      ],
      "text/plain": [
       "    age_group treatment  count   \n",
       "0         50s        No     14  \\\n",
       "1         50s       Yes     17   \n",
       "2   Early 20s        No     86   \n",
       "3   Early 20s       Yes     70   \n",
       "4   Early 30s        No    173   \n",
       "5   Early 30s       Yes    174   \n",
       "6   Early 40s        No     49   \n",
       "7   Early 40s       Yes     64   \n",
       "8    Late 20s        No    188   \n",
       "9    Late 20s       Yes    172   \n",
       "10   Late 30s        No     96   \n",
       "11   Late 30s       Yes    111   \n",
       "12   Late 40s        No     13   \n",
       "13   Late 40s       Yes     23   \n",
       "\n",
       "                                                 text  \n",
       "0   14 People in Age Group 50s does not seek help ...  \n",
       "1   17 People in Age Group 50s seeks help for ment...  \n",
       "2   86 People in Age Group Early 20s does not seek...  \n",
       "3   70 People in Age Group Early 20s seeks help fo...  \n",
       "4   173 People in Age Group Early 30s does not see...  \n",
       "5   174 People in Age Group Early 30s seeks help f...  \n",
       "6   49 People in Age Group Early 40s does not seek...  \n",
       "7   64 People in Age Group Early 40s seeks help fo...  \n",
       "8   188 People in Age Group Late 20s does not seek...  \n",
       "9   172 People in Age Group Late 20s seeks help fo...  \n",
       "10  96 People in Age Group Late 30s does not seek ...  \n",
       "11  111 People in Age Group Late 30s seeks help fo...  \n",
       "12  13 People in Age Group Late 40s does not seek ...  \n",
       "13  23 People in Age Group Late 40s seeks help for...  "
      ]
     },
     "execution_count": 27,
     "metadata": {},
     "output_type": "execute_result"
    }
   ],
   "source": [
    "final_df"
   ]
  },
  {
   "cell_type": "code",
   "execution_count": null,
   "metadata": {},
   "outputs": [],
   "source": []
  }
 ],
 "metadata": {
  "kernelspec": {
   "display_name": "Python 3 (ipykernel)",
   "language": "python",
   "name": "python3"
  },
  "language_info": {
   "codemirror_mode": {
    "name": "ipython",
    "version": 3
   },
   "file_extension": ".py",
   "mimetype": "text/x-python",
   "name": "python",
   "nbconvert_exporter": "python",
   "pygments_lexer": "ipython3",
   "version": "3.9.6"
  }
 },
 "nbformat": 4,
 "nbformat_minor": 4
}
